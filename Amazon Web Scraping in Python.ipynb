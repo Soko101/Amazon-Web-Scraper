{
 "cells": [
  {
   "cell_type": "markdown",
   "id": "96e65a2b-51cd-43f0-8241-ff934c8bbdf0",
   "metadata": {},
   "source": [
    "AMAZON WEB SCRAPER PROJECT\n"
   ]
  },
  {
   "cell_type": "code",
   "execution_count": 35,
   "id": "f4de598b-2361-4b41-b858-e0e93d790e92",
   "metadata": {},
   "outputs": [],
   "source": [
    "# import libraries\n",
    "from bs4 import BeautifulSoup\n",
    "import requests\n",
    "import time\n",
    "import datetime\n",
    "import smtplib"
   ]
  },
  {
   "cell_type": "code",
   "execution_count": 63,
   "id": "ffef26f7-cf6c-4172-824d-394921753e9a",
   "metadata": {},
   "outputs": [
    {
     "ename": "AttributeError",
     "evalue": "'NoneType' object has no attribute 'get_text'",
     "output_type": "error",
     "traceback": [
      "\u001b[0;31m---------------------------------------------------------------------------\u001b[0m",
      "\u001b[0;31mAttributeError\u001b[0m                            Traceback (most recent call last)",
      "Cell \u001b[0;32mIn[63], line 25\u001b[0m\n\u001b[1;32m     22\u001b[0m soup1 \u001b[38;5;241m=\u001b[39m BeautifulSoup(page\u001b[38;5;241m.\u001b[39mcontent, \u001b[38;5;124m\"\u001b[39m\u001b[38;5;124mhtml.parser\u001b[39m\u001b[38;5;124m\"\u001b[39m)\n\u001b[1;32m     23\u001b[0m soup2 \u001b[38;5;241m=\u001b[39m BeautifulSoup(soup1\u001b[38;5;241m.\u001b[39mprettify(), \u001b[38;5;124m\"\u001b[39m\u001b[38;5;124mhtml.parser\u001b[39m\u001b[38;5;124m\"\u001b[39m)\n\u001b[0;32m---> 25\u001b[0m title \u001b[38;5;241m=\u001b[39m soup2\u001b[38;5;241m.\u001b[39mfind(\u001b[38;5;28mid\u001b[39m\u001b[38;5;241m=\u001b[39m\u001b[38;5;124m'\u001b[39m\u001b[38;5;124mproductTitle\u001b[39m\u001b[38;5;124m'\u001b[39m)\u001b[38;5;241m.\u001b[39mget_text()\n\u001b[1;32m     28\u001b[0m \u001b[38;5;28;01mif\u001b[39;00m title:\n\u001b[1;32m     29\u001b[0m     \u001b[38;5;28mprint\u001b[39m(\u001b[38;5;124m\"\u001b[39m\u001b[38;5;124mTitle:\u001b[39m\u001b[38;5;124m\"\u001b[39m, title\u001b[38;5;241m.\u001b[39mget_text()\u001b[38;5;241m.\u001b[39mstrip())\n",
      "\u001b[0;31mAttributeError\u001b[0m: 'NoneType' object has no attribute 'get_text'"
     ]
    }
   ],
   "source": [
    "# connect to website\n",
    "\n",
    "# this did not end up working as amazon has put in place restrictions to scrape this product page\n",
    "URL = 'https://www.amazon.com/Funny-Data-Systems-Business-Analyst/dp/B07FNW9FGJ'\n",
    "\n",
    "headers = {\n",
    "    \"User-Agent\": \"Mozilla/5.0 (Windows NT 10.0; Win64; x64) AppleWebKit/537.36 (KHTML, like Gecko) Chrome/119.0.0.0 Safari/537.36\",\n",
    "    \"Accept-Language\": \"en-US,en;q=0.9\"\n",
    "}\n",
    "\n",
    "page = requests.get(URL, headers=headers)\n",
    "\n",
    "soup1 = BeautifulSoup(page.content, \"html.parser\")\n",
    "soup2 = BeautifulSoup(soup1.prettify(), \"html.parser\")\n",
    "\n",
    "title = soup2.find(id='productTitle').get_text()\n"
   ]
  },
  {
   "cell_type": "code",
   "execution_count": 87,
   "id": "9b9be597-3a79-44ce-b55d-1539e070d4ab",
   "metadata": {},
   "outputs": [
    {
     "name": "stdout",
     "output_type": "stream",
     "text": [
      "Got Data Funny Business Data Analyst T-Shirt\n",
      "$14.99\n"
     ]
    }
   ],
   "source": [
    "# better option was just to download the html page and parse it in directly\n",
    "with open(\"/Users/taongasoko/Downloads/amazon_product.html\", \"r\", encoding=\"utf-8\") as f:\n",
    "    html_code = f.read()\n",
    "\n",
    "soup = BeautifulSoup(html_code, \"html.parser\")\n",
    "\n",
    "# print title\n",
    "title = soup.find(id=\"productTitle\")\n",
    "\n",
    "if title:\n",
    "    print(title.get_text().strip())\n",
    "else:\n",
    "    print(\"⚠️ Could not find productTitle — check if HTML was saved fully.\")\n",
    "\n",
    "# Print price\n",
    "price_symbol = soup2.find(class_='a-price-symbol').get_text(strip=True)\n",
    "price_whole = soup2.find(class_='a-price-whole').get_text(strip=True)\n",
    "price_fraction = soup2.find(class_='a-price-fraction').get_text(strip=True)\n",
    "price = f'{price_symbol}{price_whole}{price_fraction}'\n",
    "print(price)\n"
   ]
  },
  {
   "cell_type": "code",
   "execution_count": 101,
   "id": "ecd42eec-873a-4316-a654-d4f7937f23c8",
   "metadata": {},
   "outputs": [
    {
     "name": "stdout",
     "output_type": "stream",
     "text": [
      "2025-05-15\n"
     ]
    }
   ],
   "source": [
    "import datetime\n",
    "\n",
    "today = datetime.date.today()\n",
    "clean_date = str(today)\n",
    "\n",
    "print(today)"
   ]
  },
  {
   "cell_type": "code",
   "execution_count": 105,
   "id": "60b97219-9914-4f08-952a-293df9e4a261",
   "metadata": {},
   "outputs": [],
   "source": [
    "import csv\n",
    "\n",
    "# clean the values\n",
    "clean_title = title.get_text().strip()  # title is a BeautifulSoup object\n",
    "clean_price = price.strip()     \n",
    "\n",
    "\n",
    "header = ['Title', 'Price', 'Date']\n",
    "data = [clean_title, clean_price, clean_date]\n",
    "\n",
    "with open('AmazonWebScraperDataset.csv', 'w', newline='', encoding='utf-8') as f:\n",
    "    writer = csv.writer(f)\n",
    "    writer.writerow(header)\n",
    "    writer.writerow(data)\n"
   ]
  },
  {
   "cell_type": "code",
   "execution_count": 117,
   "id": "fe9bbe2f-9b6f-43c6-a38f-7c9019fae780",
   "metadata": {},
   "outputs": [
    {
     "name": "stdout",
     "output_type": "stream",
     "text": [
      "                                          Title   Price        Date\n",
      "0  Got Data Funny Business Data Analyst T-Shirt  $14.99  2025-05-15\n",
      "1  Got Data Funny Business Data Analyst T-Shirt  $14.99  2025-05-15\n",
      "2  Got Data Funny Business Data Analyst T-Shirt  $14.99  2025-05-15\n",
      "3  Got Data Funny Business Data Analyst T-Shirt  $14.99  2025-05-15\n"
     ]
    }
   ],
   "source": [
    "import pandas as pd\n",
    "\n",
    "df = pd.read_csv('/Users/taongasoko/AmazonWebScraperDataset.csv')\n",
    "\n",
    "print(df)"
   ]
  },
  {
   "cell_type": "code",
   "execution_count": 115,
   "id": "9829ea3b-9dec-4768-ac89-b752ca03fe0d",
   "metadata": {},
   "outputs": [],
   "source": [
    "# Now lets append data to the csv\n",
    "\n",
    "with open('AmazonWebScraperDataset.csv', 'a+', newline='', encoding='utf-8') as f:\n",
    "    writer = csv.writer(f)\n",
    "    writer.writerow(data)"
   ]
  },
  {
   "cell_type": "code",
   "execution_count": 121,
   "id": "66bfa174-788a-4909-ab53-05da4f163e61",
   "metadata": {},
   "outputs": [],
   "source": [
    "def check_price():\n",
    "    with open(\"/Users/taongasoko/Downloads/amazon_product.html\", \"r\", encoding=\"utf-8\") as f:\n",
    "        html_code = f.read()\n",
    "\n",
    "    soup = BeautifulSoup(html_code, \"html.parser\")\n",
    "\n",
    "    # print title\n",
    "    title = soup.find(id=\"productTitle\")\n",
    "\n",
    "    if title:\n",
    "        print(title.get_text().strip())\n",
    "    else:\n",
    "        print(\"⚠️ Could not find productTitle — check if HTML was saved fully.\")\n",
    "\n",
    "    # Print price\n",
    "    price_symbol = soup2.find(class_='a-price-symbol').get_text(strip=True)\n",
    "    price_whole = soup2.find(class_='a-price-whole').get_text(strip=True)\n",
    "    price_fraction = soup2.find(class_='a-price-fraction').get_text(strip=True)\n",
    "    price = f'{price_symbol}{price_whole}{price_fraction}'\n",
    "    \n",
    "\n",
    "    import datetime\n",
    "    \n",
    "    today = datetime.date.today()\n",
    "    clean_date = str(today)\n",
    "        \n",
    "    import csv\n",
    "    \n",
    "    # clean the values\n",
    "    clean_title = title.get_text().strip()  # title is a BeautifulSoup object\n",
    "    clean_price = price.strip()     \n",
    "    \n",
    "    \n",
    "    header = ['Title', 'Price', 'Date']\n",
    "    data = [clean_title, clean_price, clean_date]\n",
    "\n",
    "\n",
    "    \n",
    "    with open('AmazonWebScraperDataset.csv', 'a+', newline='', encoding='utf-8') as f:\n",
    "        writer = csv.writer(f)\n",
    "        writer.writerow(data)\n",
    "\n",
    "    "
   ]
  },
  {
   "cell_type": "code",
   "execution_count": null,
   "id": "5276b370-4bd0-432b-a490-4e44bd72c141",
   "metadata": {},
   "outputs": [
    {
     "name": "stdout",
     "output_type": "stream",
     "text": [
      "Got Data Funny Business Data Analyst T-Shirt\n"
     ]
    }
   ],
   "source": [
    "while(True):\n",
    "    check_price()\n",
    "    time.sleep(86400) # checks price everyday to see if it changes"
   ]
  },
  {
   "cell_type": "code",
   "execution_count": 125,
   "id": "e7f6d02a-f880-455c-953e-b530789eb185",
   "metadata": {},
   "outputs": [
    {
     "name": "stdout",
     "output_type": "stream",
     "text": [
      "                                          Title   Price        Date\n",
      "0  Got Data Funny Business Data Analyst T-Shirt  $14.99  2025-05-15\n",
      "1  Got Data Funny Business Data Analyst T-Shirt  $14.99  2025-05-15\n",
      "2  Got Data Funny Business Data Analyst T-Shirt  $14.99  2025-05-15\n",
      "3  Got Data Funny Business Data Analyst T-Shirt  $14.99  2025-05-15\n",
      "4  Got Data Funny Business Data Analyst T-Shirt  $14.99  2025-05-15\n",
      "5  Got Data Funny Business Data Analyst T-Shirt  $14.99  2025-05-15\n",
      "6  Got Data Funny Business Data Analyst T-Shirt  $14.99  2025-05-15\n",
      "7  Got Data Funny Business Data Analyst T-Shirt  $14.99  2025-05-15\n",
      "8  Got Data Funny Business Data Analyst T-Shirt  $14.99  2025-05-15\n"
     ]
    }
   ],
   "source": [
    "import pandas as pd\n",
    "\n",
    "df = pd.read_csv('/Users/taongasoko/AmazonWebScraperDataset.csv')\n",
    "\n",
    "print(df)"
   ]
  },
  {
   "cell_type": "code",
   "execution_count": null,
   "id": "984cb86d-49ae-4b87-b7e1-a906fa17c7fd",
   "metadata": {},
   "outputs": [],
   "source": []
  },
  {
   "cell_type": "code",
   "execution_count": null,
   "id": "27d408b5-765d-40c7-a9c5-5717ea53077a",
   "metadata": {},
   "outputs": [],
   "source": []
  },
  {
   "cell_type": "code",
   "execution_count": null,
   "id": "8917f484-aa5e-4002-b576-a96621ed0e35",
   "metadata": {},
   "outputs": [],
   "source": []
  },
  {
   "cell_type": "code",
   "execution_count": null,
   "id": "13ab0bd7-2a74-4b6a-a07a-5079cb37ffb2",
   "metadata": {},
   "outputs": [],
   "source": []
  },
  {
   "cell_type": "code",
   "execution_count": null,
   "id": "5e518604-6253-4de3-a744-eb0d3f6c198b",
   "metadata": {},
   "outputs": [],
   "source": []
  },
  {
   "cell_type": "code",
   "execution_count": null,
   "id": "71cfc7b3-6641-431f-bedd-34d742f58d8a",
   "metadata": {},
   "outputs": [],
   "source": []
  },
  {
   "cell_type": "code",
   "execution_count": null,
   "id": "0138de9a-dd9b-4c9f-9f2f-c28d1c5cbfa9",
   "metadata": {},
   "outputs": [],
   "source": []
  },
  {
   "cell_type": "code",
   "execution_count": null,
   "id": "2a89b399-64d4-4e31-a618-98d3c3e8d4da",
   "metadata": {},
   "outputs": [],
   "source": []
  },
  {
   "cell_type": "code",
   "execution_count": null,
   "id": "f6e7c1a3-a072-473d-af9b-a8bd961c6c2f",
   "metadata": {},
   "outputs": [],
   "source": []
  }
 ],
 "metadata": {
  "kernelspec": {
   "display_name": "Python 3 (ipykernel)",
   "language": "python",
   "name": "python3"
  },
  "language_info": {
   "codemirror_mode": {
    "name": "ipython",
    "version": 3
   },
   "file_extension": ".py",
   "mimetype": "text/x-python",
   "name": "python",
   "nbconvert_exporter": "python",
   "pygments_lexer": "ipython3",
   "version": "3.12.4"
  }
 },
 "nbformat": 4,
 "nbformat_minor": 5
}
